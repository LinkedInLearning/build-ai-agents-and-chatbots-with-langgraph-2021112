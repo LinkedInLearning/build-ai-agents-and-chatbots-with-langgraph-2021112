{
 "cells": [
  {
   "cell_type": "markdown",
   "id": "9fe7c0c8-ffd0-4332-bde4-4ffc80cd8bb0",
   "metadata": {},
   "source": [
    "## Setup Models"
   ]
  },
  {
   "cell_type": "code",
   "execution_count": 3,
   "id": "ffcee502-e847-446e-8565-e4443b38ca40",
   "metadata": {},
   "outputs": [],
   "source": [
    "from langchain_openai import AzureChatOpenAI\n",
    "from langchain_openai import AzureOpenAIEmbeddings\n",
    "import os\n",
    "\n",
    "#Setup the environment variables\n",
    "os.environ[\"AZURE_OPENAI_API_KEY\"]=\"4e4ab31800a64ae892cbb768fe28c0fc\"\n",
    "os.environ[\"AZURE_OPENAI_ENDPOINT\"]=\"https://agentic-ai-course-kumaran.openai.azure.com/\"\n",
    "\n",
    "#Setup the LLM\n",
    "model = AzureChatOpenAI(\n",
    "    azure_deployment=\"gpt-4o\" ,\n",
    "    api_version=\"2023-03-15-preview\",\n",
    "    model=\"gpt-4o\"\n",
    ")\n"
   ]
  },
  {
   "cell_type": "markdown",
   "id": "adfd5d90-2f74-43d7-bc99-4caf1fcc2fb4",
   "metadata": {},
   "source": [
    "## 05.02. Engineer prompts for reflection"
   ]
  },
  {
   "cell_type": "code",
   "execution_count": 2,
   "id": "c1ee6170-be8e-470f-bda8-2c5a1674eb93",
   "metadata": {},
   "outputs": [],
   "source": [
    "summarizer_prompt=\"\"\"\n",
    "You are an document summarizer who can summarize a document provide to you.\n",
    "For the input provided, create a summary with less than 50 words.\n",
    "If the user has provides critique, responsed with a revised version of your previous attempts\n",
    "\"\"\"\n",
    "\n",
    "reviewer_prompt=\"\"\"\n",
    "You are a reviewer grading summaries for an article. \n",
    "Compare the user input document and generated summary.\n",
    "Check if the summary accurately reflects the contents of the document.\n",
    "Provide recommendations for improvement in less than 50 words.\n",
    "\"\"\"\n"
   ]
  },
  {
   "cell_type": "markdown",
   "id": "77a0496b-d2d6-4666-a46b-78f54df0ee13",
   "metadata": {},
   "source": [
    "## 05.03. Setup the summary-with-review Agent"
   ]
  },
  {
   "cell_type": "code",
   "execution_count": 9,
   "id": "68226bc6-06ff-4d28-9761-516790aeb378",
   "metadata": {},
   "outputs": [],
   "source": [
    "from langgraph.graph import StateGraph, END\n",
    "from langgraph.checkpoint.memory import MemorySaver\n",
    "from typing import TypedDict, Annotated\n",
    "import operator\n",
    "from langchain_core.messages import AnyMessage, SystemMessage, HumanMessage, ToolMessage\n",
    "\n",
    "class SummaryAgentState(TypedDict):\n",
    "    messages: Annotated[list[AnyMessage], operator.add]\n",
    "\n",
    "class SummaryAgent:\n",
    "    \n",
    "    def __init__(self, model, summarizer_prompt, reviewer_prompt, debug=False):\n",
    "        \n",
    "        self.model=model\n",
    "        self.summarizer_prompt=summarizer_prompt\n",
    "        self.reviewer_prompt=reviewer_prompt\n",
    "        self.debug=debug\n",
    "    \n",
    "        summary_agent_graph=StateGraph(SummaryAgentState)\n",
    "        summary_agent_graph.add_node(\"summarizer\",self.generate_summary)\n",
    "        summary_agent_graph.add_node(\"reviewer\",self.review_summary)\n",
    "\n",
    "        summary_agent_graph.add_conditional_edges(\n",
    "            \"summarizer\",\n",
    "            self.should_continue,\n",
    "            {True: \"reviewer\", False: END }\n",
    "        )\n",
    "        summary_agent_graph.add_edge(\"reviewer\", \"summarizer\")\n",
    "        summary_agent_graph.set_entry_point(\"summarizer\")\n",
    "\n",
    "        #Add chat memory\n",
    "        self.memory=MemorySaver()\n",
    "        #Compile the graph\n",
    "        self.summary_agent_graph = summary_agent_graph.compile(checkpointer=self.memory)\n",
    "\n",
    "    def generate_summary(self, state:SummaryAgentState):\n",
    "        messages=state[\"messages\"]\n",
    "\n",
    "        #Prepend summarizer system prompt to messages\n",
    "        messages = [SystemMessage(content=self.summarizer_prompt)] + messages\n",
    "        \n",
    "        #invoke the summarizer with the message history\n",
    "        result = self.model.invoke(messages)\n",
    "        \n",
    "        if self.debug:\n",
    "            print(f\"==============\\n Generator returned output : {result.content}\")\n",
    "        return { \"messages\":[result] }\n",
    "\n",
    "    def review_summary(self, state:SummaryAgentState):\n",
    "        messages=state[\"messages\"]\n",
    "\n",
    "        #Prepend Reviewer system prompt to messages\n",
    "        messages = [SystemMessage(content=self.reviewer_prompt)] + messages\n",
    "        \n",
    "        #invoke the reviewer with the message history\n",
    "        result = self.model.invoke(messages)\n",
    "        \n",
    "        if self.debug:\n",
    "            print(f\"*************\\n Reviewer returned output : {result.content}\")\n",
    "        return { \"messages\":[result] }\n",
    "\n",
    "    def should_continue(self, state:SummaryAgentState):\n",
    "\n",
    "        total_reviews = len(state[\"messages\"]) / 2\n",
    "        \n",
    "        if self.debug:\n",
    "            print(f\"Iteration number : { total_reviews }\")\n",
    "\n",
    "        #Return if 2 iterations are completed. Each iteration has 2 messages\n",
    "        if len(state[\"messages\"]) > 4:\n",
    "            return False\n",
    "        else:\n",
    "            return True\n",
    "    "
   ]
  },
  {
   "cell_type": "markdown",
   "id": "5ada43c7-a001-4dba-8f5b-a1ab7e6dcbf6",
   "metadata": {},
   "source": [
    "## 05.04. Setup the summary-with-review Chatbot"
   ]
  },
  {
   "cell_type": "code",
   "execution_count": 12,
   "id": "f07a1cfd-e482-4c29-a511-c2c4e710de76",
   "metadata": {},
   "outputs": [
    {
     "name": "stdout",
     "output_type": "stream",
     "text": [
      "Input :==============\n",
      " EcoSprint Specification Document 1. Overview ● The EcoSprint is a revolutionary electric vehicle (EV) designed for efficiency and performance. With its sleek design and state-of-the-art technology, the EcoSprint appeals to environmentally conscious drivers who don't want to compromise on style or driving experience. Ideal for city driving and daily commutes, the EcoSprint offers a perfect blend of comfort, sustainability, and innovation. 2. Design Specifications ● Exterior Design: The EcoSprint boasts a modern and aerodynamic silhouette, featuring smooth lines and a compact form factor. Available in colors like Midnight Black, Ocean Blue, and Pearl White, it's a head-turner on the road. ● Interior Design: Inside, the EcoSprint is a realm of comfort and luxury. It offers a spacious cabin with seating for five, premium upholstery, and customizable ambient lighting. 3. Performance Specifications ● Engine and Motor: Powered by a high-efficiency electric motor, the EcoSprint delivers 200 horsepower and 300 Nm of torque, providing a smooth and responsive driving experience. ● Battery and Range: Equipped with a 50 kWh lithium-ion battery, it offers an impressive range of up to 250 miles on a single charge. Charging is convenient with options for home-charging setups and public charging stations. ● Acceleration and Top Speed: The vehicle accelerates from 0 to 60 mph in just 7.3 seconds and has a top speed of 120 mph. 4. Technology and Features ● Infotainment System: A state-of-the-art infotainment system with a 10-inch touchscreen, voice control, and smartphone integration for both Android and iOS devices. ● Driver Assistance Systems: Includes advanced features like adaptive cruise control, lane-keeping assist, and automatic emergency braking. ● Connectivity: Remote monitoring and control via a smartphone app, enabling pre-conditioning of the vehicle, charging status checks, and more. 5. Safety and Security ● Safety Features: High-rated safety features including multiple airbags, a reinforced frame, and blind-spot monitoring. ● Security Features: Advanced security systems with remote locking/unlocking, GPS tracking, and intrusion alarms.\n",
      "\n"
     ]
    }
   ],
   "source": [
    "from IPython.display import Image\n",
    "from langchain_community.document_loaders import PyPDFLoader\n",
    "\n",
    "#Setup the summary chatbot\n",
    "summary_chatbot = SummaryAgent(model, \n",
    "                               summarizer_prompt, \n",
    "                               reviewer_prompt,\n",
    "                               debug=True)\n",
    "\n",
    "Image(summary_chatbot.summary_agent_graph.get_graph().draw_mermaid_png())\n",
    "\n",
    "#Input file for execution\n",
    "# Load, chunk and index the contents of the pdf.\n",
    "loader=PyPDFLoader(\"./data/EcoSprint_Specification_Document.pdf\")\n",
    "docs = loader.load()\n",
    "\n",
    "#Pick the first page of the doc as content\n",
    "source_content=docs[0].page_content.replace(\"\\n\",\" \")\n",
    "print(f\"Input :==============\\n {input}\\n\")"
   ]
  },
  {
   "cell_type": "markdown",
   "id": "702dd0d5-642b-4790-a798-93779944cb1a",
   "metadata": {},
   "source": [
    "## 05.05. Execute the summary-with-review chatbot"
   ]
  },
  {
   "cell_type": "code",
   "execution_count": 11,
   "id": "bf7dced1-1af4-4f92-932b-d8152381fac9",
   "metadata": {},
   "outputs": [
    {
     "name": "stdout",
     "output_type": "stream",
     "text": [
      "==============\n",
      " Generator returned output : The EcoSprint is a cutting-edge electric vehicle designed for efficiency, style, and performance. It features a sleek exterior, a luxurious interior, and advanced technology. With a 200-horsepower motor, 250-mile range, and numerous safety and driver-assistance systems, it is ideal for city driving and daily commutes.\n",
      "Iteration number : 1.0\n",
      "*************\n",
      " Reviewer returned output : The summary generally captures the document's essence but can improve by mentioning specific elements like the 50 kWh battery, 10-inch infotainment touchscreen, and customizable ambient lighting. Including these details would provide a more comprehensive overview.\n",
      "==============\n",
      " Generator returned output : The EcoSprint is a cutting-edge electric vehicle designed for efficiency, style, and performance. It features a sleek exterior, a luxurious interior with customizable lighting, and advanced technology like a 10-inch infotainment touchscreen. With a 200-horsepower motor, 50 kWh battery, and numerous safety and driver-assistance systems, it is ideal for city driving and daily commutes.\n",
      "Iteration number : 2.0\n",
      "*************\n",
      " Reviewer returned output : The summary accurately reflects the document but could include more specific details like color options, battery specifications, and acceleration metrics for a fuller picture. Consider adding these elements for a more comprehensive overview.\n",
      "==============\n",
      " Generator returned output : The EcoSprint is a cutting-edge electric vehicle designed for efficiency, style, and performance. It features a sleek exterior in colors like Midnight Black, a luxurious interior with customizable lighting, and advanced technology like a 10-inch infotainment touchscreen. With a 200-horsepower motor, 50 kWh battery, and numerous safety and driver-assistance systems, it is ideal for city driving and daily commutes.\n",
      "Iteration number : 3.0\n",
      "*************\n",
      " Reviewer returned output : The summary is accurate but could be improved by including more specific details such as color options (Midnight Black, Ocean Blue, Pearl White), battery capacity (50 kWh), and performance metrics (0-60 mph in 7.3 seconds, top speed of 120 mph).\n",
      "==============\n",
      " Generator returned output : The EcoSprint is a cutting-edge electric vehicle designed for efficiency, style, and performance. It features a sleek exterior in Midnight Black, Ocean Blue, and Pearl White, a luxurious interior with customizable lighting, and advanced technology like a 10-inch infotainment touchscreen. With a 200-horsepower motor, 50 kWh battery, and numerous safety and driver-assistance systems, it is ideal for city driving and daily commutes.\n",
      "Iteration number : 4.0\n"
     ]
    }
   ],
   "source": [
    "import uuid\n",
    "#Execute a single request with debug ON\n",
    "config = {\"configurable\": {\"thread_id\": str(uuid.uuid4())}}\n",
    "\n",
    "messages=[HumanMessage(content=source_content)]\n",
    "result=summary_chatbot.summary_agent_graph.invoke({\"messages\":messages},config)"
   ]
  },
  {
   "cell_type": "code",
   "execution_count": 14,
   "id": "c18124d5-b098-4b25-9d95-151dcf0cf3df",
   "metadata": {},
   "outputs": [
    {
     "name": "stdout",
     "output_type": "stream",
     "text": [
      "----------------------------------------\n",
      "USER : EcoSprint Specification Document 1. Overview ● The EcoSprint is a revolutionary electric vehicle (EV) designed for efficiency and performance. With its sleek design and state-of-the-art technology, the EcoSprint appeals to environmentally conscious drivers who don't want to compromise on style or driving experience. Ideal for city driving and daily commutes, the EcoSprint offers a perfect blend of comfort, sustainability, and innovation. 2. Design Specifications ● Exterior Design: The EcoSprint boasts a modern and aerodynamic silhouette, featuring smooth lines and a compact form factor. Available in colors like Midnight Black, Ocean Blue, and Pearl White, it's a head-turner on the road. ● Interior Design: Inside, the EcoSprint is a realm of comfort and luxury. It offers a spacious cabin with seating for five, premium upholstery, and customizable ambient lighting. 3. Performance Specifications ● Engine and Motor: Powered by a high-efficiency electric motor, the EcoSprint delivers 200 horsepower and 300 Nm of torque, providing a smooth and responsive driving experience. ● Battery and Range: Equipped with a 50 kWh lithium-ion battery, it offers an impressive range of up to 250 miles on a single charge. Charging is convenient with options for home-charging setups and public charging stations. ● Acceleration and Top Speed: The vehicle accelerates from 0 to 60 mph in just 7.3 seconds and has a top speed of 120 mph. 4. Technology and Features ● Infotainment System: A state-of-the-art infotainment system with a 10-inch touchscreen, voice control, and smartphone integration for both Android and iOS devices. ● Driver Assistance Systems: Includes advanced features like adaptive cruise control, lane-keeping assist, and automatic emergency braking. ● Connectivity: Remote monitoring and control via a smartphone app, enabling pre-conditioning of the vehicle, charging status checks, and more. 5. Safety and Security ● Safety Features: High-rated safety features including multiple airbags, a reinforced frame, and blind-spot monitoring. ● Security Features: Advanced security systems with remote locking/unlocking, GPS tracking, and intrusion alarms.\n",
      "\n",
      "AGENT : The EcoSprint is a revolutionary electric vehicle designed for efficiency and performance. It features a sleek exterior in colors like Midnight Black, Ocean Blue, and Pearl White, a luxurious interior, a 200 hp motor, a 50 kWh battery with a 250-mile range, 0-60 mph in 7.3 seconds, and advanced safety and technology features.\n",
      "----------------------------------------\n",
      "USER : Can you rewrite the review by focusing more on the specifications?\n",
      "\n",
      "AGENT : The EcoSprint electric vehicle boasts a sleek, aerodynamic design available in Midnight Black, Ocean Blue, and Pearl White. It features a spacious interior with premium upholstery and ambient lighting. Powered by a 200 hp electric motor and a 50 kWh battery, it offers a 250-mile range, 0-60 mph in 7.3 seconds, and a top speed of 120 mph. The vehicle includes a 10-inch infotainment system, adaptive cruise control, lane-keeping assist, multiple airbags, and advanced security systems.\n",
      "----------------------------------------\n",
      "USER : Can you remove details about the touchscreen?\n",
      "\n",
      "AGENT : The EcoSprint electric vehicle boasts a sleek, aerodynamic design available in Midnight Black, Ocean Blue, and Pearl White. It features a spacious interior with premium upholstery and ambient lighting. Powered by a 200 hp electric motor and a 50 kWh battery, it offers a 250-mile range, 0-60 mph in 7.3 seconds, and a top speed of 120 mph. The vehicle includes adaptive cruise control, lane-keeping assist, multiple airbags, and advanced security systems.\n"
     ]
    }
   ],
   "source": [
    "#Take user feedback on the summary through a chatbot\n",
    "summary_chatbot = SummaryAgent(model, \n",
    "                               summarizer_prompt, \n",
    "                               reviewer_prompt,\n",
    "                               debug=False)\n",
    "\n",
    "\n",
    "user_inputs = [\n",
    "    source_content,\n",
    "    \"Can you rewrite the review by focusing more on the specifications?\",\n",
    "    \"Can you remove details about the touchscreen?\"\n",
    "]\n",
    "\n",
    "#Create a new thread\n",
    "config = {\"configurable\": {\"thread_id\": \"thread-summarizer\"}}\n",
    "\n",
    "#Given the number of iterations, this will take a long time.\n",
    "for input in user_inputs:\n",
    "    print(f\"----------------------------------------\\nUSER : {input}\")\n",
    "    #Format the user message\n",
    "    user_message = {\"messages\":[HumanMessage(input)]}\n",
    "    #Get response from the agent\n",
    "    ai_response = summary_chatbot.summary_agent_graph.invoke(user_message,config=config)\n",
    "    #Print the response\n",
    "    print(f\"\\nAGENT : {ai_response['messages'][-1].content}\")"
   ]
  },
  {
   "cell_type": "code",
   "execution_count": null,
   "id": "6bac0372-36f5-4ccb-8b83-d3a489bfbafb",
   "metadata": {},
   "outputs": [],
   "source": []
  },
  {
   "cell_type": "code",
   "execution_count": null,
   "id": "9cfdd243-6277-433b-a811-a8b2876ce69b",
   "metadata": {},
   "outputs": [],
   "source": []
  }
 ],
 "metadata": {
  "kernelspec": {
   "display_name": "Python 3 (ipykernel)",
   "language": "python",
   "name": "python3"
  },
  "language_info": {
   "codemirror_mode": {
    "name": "ipython",
    "version": 3
   },
   "file_extension": ".py",
   "mimetype": "text/x-python",
   "name": "python",
   "nbconvert_exporter": "python",
   "pygments_lexer": "ipython3",
   "version": "3.11.9"
  }
 },
 "nbformat": 4,
 "nbformat_minor": 5
}
