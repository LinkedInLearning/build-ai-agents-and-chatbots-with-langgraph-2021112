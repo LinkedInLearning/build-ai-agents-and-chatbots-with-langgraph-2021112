{
 "cells": [
  {
   "cell_type": "markdown",
   "id": "9fe7c0c8-ffd0-4332-bde4-4ffc80cd8bb0",
   "metadata": {},
   "source": [
    "## Setup Models"
   ]
  },
  {
   "cell_type": "code",
   "execution_count": 1,
   "id": "ffcee502-e847-446e-8565-e4443b38ca40",
   "metadata": {},
   "outputs": [],
   "source": [
    "from langchain_openai import AzureChatOpenAI\n",
    "from langchain_openai import AzureOpenAIEmbeddings\n",
    "import os\n",
    "\n",
    "#Setup the environment variables\n",
    "os.environ[\"AZURE_OPENAI_API_KEY\"]=\"4e4ab31800a64ae892cbb768fe28c0fc\"\n",
    "os.environ[\"AZURE_OPENAI_ENDPOINT\"]=\"https://agentic-ai-course-kumaran.openai.azure.com/\"\n",
    "\n",
    "#Setup the LLM\n",
    "model = AzureChatOpenAI(\n",
    "    azure_deployment=\"gpt-4o\" ,\n",
    "    api_version=\"2023-03-15-preview\",\n",
    "    model=\"gpt-4o\"\n",
    ")\n"
   ]
  },
  {
   "cell_type": "markdown",
   "id": "adfd5d90-2f74-43d7-bc99-4caf1fcc2fb4",
   "metadata": {},
   "source": [
    "## 05.02. Engineer prompts for reflection"
   ]
  },
  {
   "cell_type": "code",
   "execution_count": 2,
   "id": "c1ee6170-be8e-470f-bda8-2c5a1674eb93",
   "metadata": {},
   "outputs": [],
   "source": [
    "summarizer_prompt=\"\"\"\n",
    "You are an document summarizer who can summarize a document provide to you.\n",
    "For the input provided, create a summary with less than 50 words.\n",
    "If the user has provides critique, responsed with a revised version of your previous attempts\n",
    "\"\"\"\n",
    "\n",
    "reviewer_prompt=\"\"\"\n",
    "You are a reviewer grading summaries for an article. \n",
    "Compare the user input document and generated summary.\n",
    "Check if the summary accurately reflects the contents of the document.\n",
    "Provide recommendations for improvement in less than 50 words.\n",
    "\"\"\"\n"
   ]
  },
  {
   "cell_type": "markdown",
   "id": "77a0496b-d2d6-4666-a46b-78f54df0ee13",
   "metadata": {},
   "source": [
    "## 05.03. Setup the summary-with-review Agent"
   ]
  },
  {
   "cell_type": "code",
   "execution_count": 3,
   "id": "68226bc6-06ff-4d28-9761-516790aeb378",
   "metadata": {},
   "outputs": [],
   "source": [
    "from langgraph.graph import StateGraph, END\n",
    "from langgraph.checkpoint.memory import MemorySaver\n",
    "from typing import TypedDict, Annotated\n",
    "import operator\n",
    "from langchain_core.messages import AnyMessage, SystemMessage, HumanMessage, ToolMessage\n",
    "\n",
    "class SummaryAgentState(TypedDict):\n",
    "    messages: Annotated[list[AnyMessage], operator.add]\n",
    "\n",
    "class SummaryAgent:\n",
    "    \n",
    "    def __init__(self, model, summarizer_prompt, reviewer_prompt, debug=False):\n",
    "        \n",
    "        self.model=model\n",
    "        self.summarizer_prompt=summarizer_prompt\n",
    "        self.reviewer_prompt=reviewer_prompt\n",
    "        self.debug=debug\n",
    "    \n",
    "        summary_agent_graph=StateGraph(SummaryAgentState)\n",
    "        summary_agent_graph.add_node(\"summarizer\",self.generate_summary)\n",
    "        summary_agent_graph.add_node(\"reviewer\",self.review_summary)\n",
    "\n",
    "        summary_agent_graph.add_conditional_edges(\n",
    "            \"summarizer\",\n",
    "            self.should_continue,\n",
    "            {True: \"reviewer\", False: END }\n",
    "        )\n",
    "        summary_agent_graph.add_edge(\"reviewer\", \"summarizer\")\n",
    "        summary_agent_graph.set_entry_point(\"summarizer\")\n",
    "\n",
    "        #Add chat memory\n",
    "        self.memory=MemorySaver()\n",
    "        #Compile the graph\n",
    "        self.summary_agent_graph = summary_agent_graph.compile(checkpointer=self.memory)\n",
    "\n",
    "    def generate_summary(self, state:SummaryAgentState):\n",
    "        messages=state[\"messages\"]\n",
    "\n",
    "        #Prepend summarizer system prompt to messages\n",
    "        messages = [SystemMessage(content=self.summarizer_prompt)] + messages\n",
    "        \n",
    "        #invoke the summarizer with the message history\n",
    "        result = self.model.invoke(messages)\n",
    "        \n",
    "        if self.debug:\n",
    "            print(f\"==============\\n Generator returned output : {result.content}\")\n",
    "        return { \"messages\":[result] }\n",
    "\n",
    "    def review_summary(self, state:SummaryAgentState):\n",
    "        messages=state[\"messages\"]\n",
    "\n",
    "        #Prepend Reviewer system prompt to messages\n",
    "        messages = [SystemMessage(content=self.reviewer_prompt)] + messages\n",
    "        \n",
    "        #invoke the reviewer with the message history\n",
    "        result = self.model.invoke(messages)\n",
    "        \n",
    "        if self.debug:\n",
    "            print(f\"*************\\n Reviewer returned output : {result.content}\")\n",
    "        return { \"messages\":[result] }\n",
    "\n",
    "    def should_continue(self, state:SummaryAgentState):\n",
    "\n",
    "        total_reviews = len(state[\"messages\"]) / 2\n",
    "        \n",
    "        if self.debug:\n",
    "            print(f\"Iteration number : { total_reviews }\")\n",
    "\n",
    "        #Return if 2 iterations are completed. Each iteration has 2 messages\n",
    "        if len(state[\"messages\"]) > 4:\n",
    "            return False\n",
    "        else:\n",
    "            return True\n",
    "    "
   ]
  },
  {
   "cell_type": "markdown",
   "id": "5ada43c7-a001-4dba-8f5b-a1ab7e6dcbf6",
   "metadata": {},
   "source": [
    "## 05.04. Setup the summary-with-review Chatbot"
   ]
  },
  {
   "cell_type": "code",
   "execution_count": 4,
   "id": "f07a1cfd-e482-4c29-a511-c2c4e710de76",
   "metadata": {},
   "outputs": [
    {
     "name": "stdout",
     "output_type": "stream",
     "text": [
      "Input :==============\n",
      " <bound method Kernel.raw_input of <ipykernel.ipkernel.IPythonKernel object at 0x7c09f6decaf0>>\n",
      "\n"
     ]
    }
   ],
   "source": [
    "from IPython.display import Image\n",
    "from langchain_community.document_loaders import PyPDFLoader\n",
    "\n",
    "#Setup the summary chatbot\n",
    "summary_chatbot = SummaryAgent(model, \n",
    "                               summarizer_prompt, \n",
    "                               reviewer_prompt,\n",
    "                               debug=True)\n",
    "\n",
    "Image(summary_chatbot.summary_agent_graph.get_graph().draw_mermaid_png())\n",
    "\n",
    "#Input file for execution\n",
    "# Load, chunk and index the contents of the pdf.\n",
    "loader=PyPDFLoader(\"./data/EcoSprint_Specification_Document.pdf\")\n",
    "docs = loader.load()\n",
    "\n",
    "#Pick the first page of the doc as content\n",
    "source_content=docs[0].page_content.replace(\"\\n\",\" \")\n",
    "print(f\"Input :==============\\n {input}\\n\")"
   ]
  },
  {
   "cell_type": "markdown",
   "id": "702dd0d5-642b-4790-a798-93779944cb1a",
   "metadata": {},
   "source": [
    "## 05.05. Execute the summary-with-review chatbot"
   ]
  },
  {
   "cell_type": "code",
   "execution_count": 5,
   "id": "bf7dced1-1af4-4f92-932b-d8152381fac9",
   "metadata": {},
   "outputs": [
    {
     "name": "stdout",
     "output_type": "stream",
     "text": [
      "==============\n",
      " Generator returned output : The EcoSprint is a cutting-edge electric vehicle designed for eco-friendly drivers seeking style and performance. It features a modern aerodynamic design, a luxurious interior, a 200-horsepower motor, a 250-mile range, advanced technology, and comprehensive safety systems, making it ideal for city driving and daily commutes.\n",
      "Iteration number : 1.0\n",
      "*************\n",
      " Reviewer returned output : The summary accurately reflects the document's contents but can be improved by highlighting specific features such as the acceleration, top speed, and available colors. Additionally, mentioning the infotainment system and driver assistance technologies would offer a more comprehensive overview.\n",
      "==============\n",
      " Generator returned output : The EcoSprint is a cutting-edge electric vehicle with a modern design, luxurious interior, 200-horsepower motor, 250-mile range, and 7.3-second acceleration. Available in Midnight Black, Ocean Blue, Pearl White, it features advanced infotainment, driver assistance, and safety systems, ideal for eco-conscious city drivers.\n",
      "Iteration number : 2.0\n",
      "*************\n",
      " Reviewer returned output : The summary accurately reflects the document's contents but could improve by including details about specific features like the acceleration, top speed, and available colors. Additionally, mentioning the infotainment system and driver assistance technologies would provide a more comprehensive overview.\n",
      "==============\n",
      " Generator returned output : The EcoSprint is a cutting-edge electric vehicle with a modern design, luxurious interior, 200-horsepower motor, 250-mile range, and 7.3-second acceleration. Available in Midnight Black, Ocean Blue, and Pearl White, it features advanced infotainment, driver assistance, and safety systems, ideal for eco-conscious city drivers.\n",
      "Iteration number : 3.0\n"
     ]
    }
   ],
   "source": [
    "import uuid\n",
    "#Execute a single request with debug ON\n",
    "config = {\"configurable\": {\"thread_id\": str(uuid.uuid4())}}\n",
    "\n",
    "messages=[HumanMessage(content=source_content)]\n",
    "result=summary_chatbot.summary_agent_graph.invoke({\"messages\":messages},config)"
   ]
  },
  {
   "cell_type": "code",
   "execution_count": 6,
   "id": "c18124d5-b098-4b25-9d95-151dcf0cf3df",
   "metadata": {},
   "outputs": [
    {
     "name": "stdout",
     "output_type": "stream",
     "text": [
      "----------------------------------------\n",
      "USER : EcoSprint SpecificationDocument 1.Overview● TheEcoSprint isarevolutionaryelectricvehicle(EV)designedforefficiencyandperformance. Withitssleekdesignandstate-of-the-art technology, theEcoSprintappealstoenvironmentallyconsciousdriverswhodon't want tocompromiseonstyleordrivingexperience. Ideal forcitydrivinganddailycommutes, theEcoSprint offersaperfect blendof comfort, sustainability, andinnovation. 2.DesignSpecifications● ExteriorDesign: TheEcoSprint boastsamodernandaerodynamicsilhouette, featuringsmoothlinesandacompact formfactor. AvailableincolorslikeMidnight Black, OceanBlue, andPearl White, it'sahead-turnerontheroad.● InteriorDesign: Inside, theEcoSprint isarealmof comfort andluxury. It offersaspaciouscabinwithseatingforfive, premiumupholstery, andcustomizableambientlighting. 3.PerformanceSpecifications● EngineandMotor: Poweredbyahigh-efficiencyelectricmotor, theEcoSprint delivers200horsepowerand300Nmof torque, providingasmoothandresponsivedrivingexperience.● BatteryandRange: Equippedwitha50kWhlithium-ionbattery, it offersanimpressiverangeof upto250milesonasinglecharge. Chargingisconvenient withoptionsforhome-chargingsetupsandpublicchargingstations.● AccelerationandTopSpeed: Thevehicleacceleratesfrom0to60mphinjust 7.3secondsandhasatopspeedof 120mph. 4.TechnologyandFeatures● Infotainment System: Astate-of-the-art infotainment systemwitha10-inchtouchscreen,voicecontrol, andsmartphoneintegrationforbothAndroidandiOSdevices.● DriverAssistanceSystems: Includesadvancedfeatureslikeadaptivecruisecontrol,lane-keepingassist, andautomaticemergencybraking.● Connectivity: Remotemonitoringandcontrol viaasmartphoneapp, enablingpre-conditioningof thevehicle, chargingstatuschecks, andmore. 5.SafetyandSecurity● SafetyFeatures: High-ratedsafetyfeaturesincludingmultipleairbags, areinforcedframe, andblind-spot monitoring.● SecurityFeatures: Advancedsecuritysystemswithremotelocking/unlocking, GPStracking, andintrusionalarms.\n",
      "\n",
      "AGENT : The EcoSprint is an electric vehicle designed for efficiency, with 200 horsepower and a 250-mile range. It features a luxurious interior with customizable lighting, advanced technology, adaptive cruise control, and robust safety and security measures. Available in multiple colors, it combines style, comfort, and sustainability for urban drivers.\n",
      "----------------------------------------\n",
      "USER : Can you rewrite the review by focusing more on the specifications?\n",
      "\n",
      "AGENT : The EcoSprint offers 200 horsepower and 300Nm torque with a 50kWh lithium-ion battery, providing a 250-mile range. It accelerates from 0-60 mph in 7.3 seconds with a top speed of 120 mph. The vehicle includes a 10-inch touchscreen infotainment system, adaptive cruise control, and advanced safety features.\n",
      "----------------------------------------\n",
      "USER : Can you remove details about the touchscreen?\n",
      "\n",
      "AGENT : The EcoSprint delivers 200 horsepower and 300Nm torque with a 50kWh lithium-ion battery, offering a 250-mile range. It accelerates from 0-60 mph in 7.3 seconds with a top speed of 120 mph. The vehicle includes adaptive cruise control and advanced safety features, blending performance and technology seamlessly.\n"
     ]
    }
   ],
   "source": [
    "#Take user feedback on the summary through a chatbot\n",
    "summary_chatbot = SummaryAgent(model, \n",
    "                               summarizer_prompt, \n",
    "                               reviewer_prompt,\n",
    "                               debug=False)\n",
    "\n",
    "\n",
    "user_inputs = [\n",
    "    source_content,\n",
    "    \"Can you rewrite the review by focusing more on the specifications?\",\n",
    "    \"Can you remove details about the touchscreen?\"\n",
    "]\n",
    "\n",
    "#Create a new thread\n",
    "config = {\"configurable\": {\"thread_id\": \"thread-summarizer\"}}\n",
    "\n",
    "#Given the number of iterations, this will take a long time.\n",
    "for input in user_inputs:\n",
    "    print(f\"----------------------------------------\\nUSER : {input}\")\n",
    "    #Format the user message\n",
    "    user_message = {\"messages\":[HumanMessage(input)]}\n",
    "    #Get response from the agent\n",
    "    ai_response = summary_chatbot.summary_agent_graph.invoke(user_message,config=config)\n",
    "    #Print the response\n",
    "    print(f\"\\nAGENT : {ai_response['messages'][-1].content}\")"
   ]
  },
  {
   "cell_type": "code",
   "execution_count": null,
   "id": "6bac0372-36f5-4ccb-8b83-d3a489bfbafb",
   "metadata": {},
   "outputs": [],
   "source": []
  },
  {
   "cell_type": "code",
   "execution_count": null,
   "id": "9cfdd243-6277-433b-a811-a8b2876ce69b",
   "metadata": {},
   "outputs": [],
   "source": []
  }
 ],
 "metadata": {
  "kernelspec": {
   "display_name": "Python 3",
   "language": "python",
   "name": "python3"
  },
  "language_info": {
   "codemirror_mode": {
    "name": "ipython",
    "version": 3
   },
   "file_extension": ".py",
   "mimetype": "text/x-python",
   "name": "python",
   "nbconvert_exporter": "python",
   "pygments_lexer": "ipython3",
   "version": "3.10.12"
  }
 },
 "nbformat": 4,
 "nbformat_minor": 5
}
