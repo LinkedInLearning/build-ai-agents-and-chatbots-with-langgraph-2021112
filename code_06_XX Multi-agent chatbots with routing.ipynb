{
 "cells": [
  {
   "cell_type": "markdown",
   "id": "94c7909b-b762-4844-a075-9874d62a17df",
   "metadata": {},
   "source": [
    "## Setup Models"
   ]
  },
  {
   "cell_type": "code",
   "execution_count": 1,
   "id": "d3f70936-4b41-4991-91ec-027962cd14c2",
   "metadata": {},
   "outputs": [],
   "source": [
    "from langchain_openai import AzureChatOpenAI\n",
    "from langchain_openai import AzureOpenAIEmbeddings\n",
    "import os\n",
    "\n",
    "#Setup the environment variables\n",
    "os.environ[\"AZURE_OPENAI_API_KEY\"]=\"4e4ab31800a64ae892cbb768fe28c0fc\"\n",
    "os.environ[\"AZURE_OPENAI_ENDPOINT\"]=\"https://agentic-ai-course-kumaran.openai.azure.com/\"\n",
    "\n",
    "#Setup the LLM\n",
    "model = AzureChatOpenAI(\n",
    "    azure_deployment=\"gpt-4o\" ,\n",
    "    api_version=\"2023-03-15-preview\",\n",
    "    model=\"gpt-4o\"\n",
    ")"
   ]
  },
  {
   "cell_type": "markdown",
   "id": "81e9d506-3cbf-4bcd-a00f-d86a4c2aa4a7",
   "metadata": {},
   "source": [
    "## 06.03. Using agents as Graph nodes"
   ]
  },
  {
   "cell_type": "code",
   "execution_count": 2,
   "id": "d85f6f81-ec83-4229-88eb-63592d460bfe",
   "metadata": {},
   "outputs": [
    {
     "name": "stdout",
     "output_type": "stream",
     "text": [
      "            Name  Price  ShippingDays\n",
      "0  AlphaBook Pro   1499             2\n",
      "1     GammaAir X   1399             7\n",
      "2  SpectraBook S   2499             7\n",
      "3   OmegaPro G17   2199            14\n",
      "4  NanoEdge Flex   1699             2\n",
      "================================\u001b[1m Human Message \u001b[0m=================================\n",
      "\n",
      "What are the features and pricing for MackRight?\n"
     ]
    },
    {
     "name": "stderr",
     "output_type": "stream",
     "text": [
      "Number of requested results 4 is greater than number of elements in index 2, updating n_results = 2\n"
     ]
    },
    {
     "name": "stdout",
     "output_type": "stream",
     "text": [
      "==================================\u001b[1m Ai Message \u001b[0m==================================\n",
      "Tool Calls:\n",
      "  Get_Product_Features (call_pOo0OQMXF0nnpMs52fiUAh0K)\n",
      " Call ID: call_pOo0OQMXF0nnpMs52fiUAh0K\n",
      "  Args:\n",
      "    query: MackRight\n",
      "  get_laptop_price (call_Ap2TsUD3eLGiXWDwwBFVyQAp)\n",
      " Call ID: call_Ap2TsUD3eLGiXWDwwBFVyQAp\n",
      "  Args:\n",
      "    laptop_name: MackRight\n",
      "=================================\u001b[1m Tool Message \u001b[0m=================================\n",
      "Name: get_laptop_price\n",
      "\n",
      "-1\n",
      "==================================\u001b[1m Ai Message \u001b[0m==================================\n",
      "\n",
      "It appears that the MackRight laptop is not available in our current inventory. Therefore, I can't provide the features or pricing for it.\n",
      "\n",
      "If you have any other specific models in mind or need information on other available laptops, please let me know!\n",
      "----------------------------------------\n",
      "USER : Hello\n",
      "AGENT : Hello! How can I assist you today?\n",
      "----------------------------------------\n",
      "USER : I am looking to buy a laptop\n",
      "AGENT : Great! I can help you with that. Do you have any specific requirements or preferences for the laptop? For example, are you looking for a specific brand, CPU type, memory size, or any other features?\n",
      "----------------------------------------\n",
      "USER : Give me a list of available laptop names\n"
     ]
    },
    {
     "name": "stderr",
     "output_type": "stream",
     "text": [
      "Number of requested results 4 is greater than number of elements in index 2, updating n_results = 2\n"
     ]
    },
    {
     "name": "stdout",
     "output_type": "stream",
     "text": [
      "AGENT : Here are some of the available laptops:\n",
      "\n",
      "1. **AlphaBook Pro**\n",
      "2. **GammaAir X**\n",
      "3. **SpectraBook S**\n",
      "4. **OmegaPro G17**\n",
      "5. **NanoEdge Flex**\n",
      "\n",
      "Do you need more details on any of these laptops or have any specific preferences?\n",
      "----------------------------------------\n",
      "USER : Tell me about the features of  SpectraBook\n"
     ]
    },
    {
     "name": "stderr",
     "output_type": "stream",
     "text": [
      "Number of requested results 4 is greater than number of elements in index 2, updating n_results = 2\n"
     ]
    },
    {
     "name": "stdout",
     "output_type": "stream",
     "text": [
      "AGENT : The **SpectraBook S** is designed for power users and comes with the following features:\n",
      "\n",
      "- **Processor:** Intel Core i9\n",
      "- **Memory:** 64GB RAM\n",
      "- **Storage:** 2TB SSD\n",
      "\n",
      "This workstation-class laptop is perfect for intensive tasks such as video editing and 3D rendering.\n",
      "\n",
      "Would you like to know the price of the SpectraBook S or any other details?\n",
      "----------------------------------------\n",
      "USER : How much does it cost?\n",
      "AGENT : The **SpectraBook S** costs $2,499.\n",
      "\n",
      "Is there anything else you would like to know or any other laptops you are interested in?\n",
      "----------------------------------------\n",
      "USER : Give me similar information about OmegaPro\n"
     ]
    },
    {
     "name": "stderr",
     "output_type": "stream",
     "text": [
      "Number of requested results 4 is greater than number of elements in index 2, updating n_results = 2\n"
     ]
    },
    {
     "name": "stdout",
     "output_type": "stream",
     "text": [
      "AGENT : The **OmegaPro G17** is a gaming powerhouse with the following features:\n",
      "\n",
      "- **Processor:** Ryzen 9 5900HX\n",
      "- **Memory:** 32GB RAM\n",
      "- **Storage:** 1TB SSD\n",
      "- **Display:** 17-inch display with a high refresh rate\n",
      "- **Graphics:** Powerful graphics card for the best gaming experience\n",
      "\n",
      "The price of the **OmegaPro G17** is $2,199.\n",
      "\n",
      "Is there anything else you would like to know or any other laptops you are interested in?\n",
      "----------------------------------------\n",
      "USER : What info do you have on AcmeRight ?Thanks for the help\n"
     ]
    },
    {
     "name": "stderr",
     "output_type": "stream",
     "text": [
      "Number of requested results 4 is greater than number of elements in index 2, updating n_results = 2\n"
     ]
    },
    {
     "name": "stdout",
     "output_type": "stream",
     "text": [
      "AGENT : I don't have any information about a laptop named **AcmeRight** in the available data.\n",
      "\n",
      "If you have any other questions or need information about a different laptop, feel free to ask!\n",
      "===============================================================\n",
      "   Order ID Product Ordered  Quantity Ordered Delivery Date\n",
      "0  ORD-8276   SpectraBook S                 3    2024-10-16\n",
      "1  ORD-6948    OmegaPro G17                 3    2024-10-25\n",
      "2  ORD-7311   NanoEdge Flex                 2    2024-10-19\n",
      "3  ORD-4633    OmegaPro G17                 2    2024-10-15\n",
      "4  ORD-2050      GammaAir X                 2    2024-10-26\n",
      "----------------------------------------\n",
      "USER : How are you doing?\n",
      "\n",
      "AGENT : I'm here and ready to assist you with your laptop order. How can I help you today?\n",
      "----------------------------------------\n",
      "USER : Please show me the details of the order ORD-7311\n",
      "\n",
      "AGENT : Here are the details for your order **ORD-7311**:\n",
      "\n",
      "- **Product Ordered:** NanoEdge Flex\n",
      "- **Quantity Ordered:** 2\n",
      "- **Delivery Date:** 2024-10-19\n",
      "\n",
      "Is there anything else I can assist you with?\n",
      "----------------------------------------\n",
      "USER : Can you add one more of that laptop to the order? \n",
      "\n",
      "AGENT : The quantity for your order **ORD-7311** has been successfully updated to 3 units of NanoEdge Flex. \n",
      "\n",
      "Is there anything else I can help you with?\n",
      "----------------------------------------\n",
      "USER : Can you show me the details again ? \n",
      "\n",
      "AGENT : Here are the updated details for your order **ORD-7311**:\n",
      "\n",
      "- **Product Ordered:** NanoEdge Flex\n",
      "- **Quantity Ordered:** 3\n",
      "- **Delivery Date:** 2024-10-19\n",
      "\n",
      "Is there anything else you need assistance with?\n",
      "----------------------------------------\n",
      "USER : What about order ORD-9999 ?\n",
      "\n",
      "AGENT : It appears there is no order with the ID **ORD-9999** in our system. Could you please double-check the order ID or provide more details?\n",
      "----------------------------------------\n",
      "USER : Bye\n",
      "\n",
      "AGENT : Thank you for reaching out. If you have any more questions in the future, feel free to contact us. Have a great day!\n"
     ]
    }
   ],
   "source": [
    "#Reuse the agents created in the previous chapters by importing their notebooks\n",
    "#This will also import the chatbot and execute the code available.\n",
    "#Ignore / hide the code output and use only the agents\n",
    "\n",
    "#import the Product QnA Agent\n",
    "%run \"code_03_XX Product QnA Agentic chatbot.ipynb\" \n",
    "print(\"===============================================================\")\n",
    "#import the orders agents\n",
    "%run \"code_04_XX Orders Chatbot with custom agent.ipynb\""
   ]
  },
  {
   "cell_type": "code",
   "execution_count": 3,
   "id": "4afc6a85-8f73-4c0c-bac0-c6f24badbf30",
   "metadata": {},
   "outputs": [],
   "source": [
    "import functools\n",
    "# Helper function to invoke an agent\n",
    "def agent_node(state, agent, name, config):\n",
    "\n",
    "    #extract thread-id from request for conversation memory\n",
    "    thread_id=config[\"metadata\"][\"thread_id\"]\n",
    "    #Set the config for calling the agent\n",
    "    agent_config = {\"configurable\": {\"thread_id\": thread_id}}\n",
    "\n",
    "    #Pass the thread-id to establish memory for chatbot\n",
    "    #Invoke the agent with the state\n",
    "    result = agent.invoke(state, agent_config)\n",
    "\n",
    "    # Convert the agent output into a format that is suitable to append to the global state\n",
    "    if isinstance(result, ToolMessage):\n",
    "        pass\n",
    "    else:\n",
    "        final_result=AIMessage(result['messages'][-1].content)\n",
    "    return {\n",
    "        \"messages\": [final_result]\n",
    "    }\n",
    "\n",
    "#Create the product QnA node\n",
    "product_QnA_node=functools.partial(agent_node, \n",
    "                                   agent=product_QnA_agent, \n",
    "                                   name=\"Product_QnA_Agent\")\n",
    "#Create the Orders node\n",
    "#For a custom agent, the agent graph need to be provided as input\n",
    "orders_node=functools.partial(agent_node,\n",
    "                              agent=orders_agent.agent_graph,\n",
    "                              name=\"Orders_Agent\")\n"
   ]
  },
  {
   "cell_type": "markdown",
   "id": "97d925a9-4050-4de2-8dcb-bd9c044470fb",
   "metadata": {},
   "source": [
    "## 06.04. Create the Routing Agent & Chatbot"
   ]
  },
  {
   "cell_type": "code",
   "execution_count": 4,
   "id": "3d31b5b9-649d-4b6f-9480-b7754618eae4",
   "metadata": {},
   "outputs": [],
   "source": [
    "#Creating the routing agent\n",
    "\n",
    "from typing import TypedDict, Annotated\n",
    "from langgraph.graph import StateGraph, END\n",
    "from langchain_core.messages import AnyMessage, SystemMessage, HumanMessage, ToolMessage\n",
    "import operator\n",
    "\n",
    "class RouterAgentState(TypedDict):\n",
    "    messages: Annotated[list[AnyMessage], operator.add]\n",
    "\n",
    "class RouterAgent:\n",
    "\n",
    "    def __init__(self, model, system_prompt, smalltalk_prompt, debug=False):\n",
    "        \n",
    "        self.system_prompt=system_prompt\n",
    "        self.smalltalk_prompt=smalltalk_prompt\n",
    "        self.model=model\n",
    "        self.debug=debug\n",
    "        \n",
    "        router_graph=StateGraph(RouterAgentState)\n",
    "        router_graph.add_node(\"Router\",self.call_llm)\n",
    "        router_graph.add_node(\"Product_Agent\",product_QnA_node)\n",
    "        router_graph.add_node(\"Orders_Agent\",orders_node)\n",
    "        router_graph.add_node(\"Small_Talk\", self.respond_smalltalk)\n",
    "                              \n",
    "        router_graph.add_conditional_edges(\n",
    "            \"Router\",\n",
    "            self.find_route,\n",
    "            {\"PRODUCT\": \"Product_Agent\", \n",
    "             \"ORDER\" : \"Orders_Agent\",\n",
    "             \"SMALLTALK\" : \"Small_Talk\",\n",
    "             \"END\": END }\n",
    "        )\n",
    "\n",
    "        #One way routing, not coming back to router\n",
    "        router_graph.add_edge(\"Product_Agent\",END)\n",
    "        router_graph.add_edge(\"Orders_Agent\",END)\n",
    "        router_graph.add_edge(\"Small_Talk\",END)\n",
    "        \n",
    "        #Set where there graph starts\n",
    "        router_graph.set_entry_point(\"Router\")\n",
    "        self.router_graph = router_graph.compile()\n",
    "\n",
    "    def call_llm(self, state:RouterAgentState):\n",
    "        messages=state[\"messages\"]\n",
    "        if self.debug:\n",
    "            print(f\"Call LLM received {messages}\")\n",
    "            \n",
    "        #If system prompt exists, add to messages in the front\n",
    "        if self.system_prompt:\n",
    "            messages = [SystemMessage(content=self.system_prompt)] + messages\n",
    "\n",
    "        #invoke the model with the message history\n",
    "        result = self.model.invoke(messages)\n",
    "\n",
    "        if self.debug:\n",
    "            print(f\"Call LLM result {result}\")\n",
    "        return { \"messages\":[result] }\n",
    "\n",
    "    def respond_smalltalk(self, state:RouterAgentState):\n",
    "        messages=state[\"messages\"]\n",
    "        if self.debug:\n",
    "            print(f\"Small talk received: {messages}\")\n",
    "            \n",
    "        #If system prompt exists, add to messages in the front\n",
    "        \n",
    "        messages = [SystemMessage(content=self.smalltalk_prompt)] + messages\n",
    "\n",
    "        #invoke the model with the message history\n",
    "        result = self.model.invoke(messages)\n",
    "\n",
    "        if self.debug:\n",
    "            print(f\"Small talk result {result}\")\n",
    "        return { \"messages\":[result] }\n",
    "        \n",
    "    def find_route(self, state:RouterAgentState):\n",
    "        last_message = state[\"messages\"][-1]\n",
    "        if self.debug: \n",
    "            print(\"Router: Last result from LLM : \", last_message)\n",
    "\n",
    "        #Set the last message as the destination\n",
    "        destination=last_message.content\n",
    "\n",
    "        if self.debug:\n",
    "            print(f\"Destination chosen : {destination}\")\n",
    "        return destination\n"
   ]
  },
  {
   "cell_type": "code",
   "execution_count": 16,
   "id": "2f9af521-affc-463d-927a-d0e09426f2e9",
   "metadata": {},
   "outputs": [
    {
     "data": {
      "image/jpeg": "[encoded data removed]",
      "text/plain": [
       "<IPython.core.display.Image object>"
      ]
     },
     "execution_count": 16,
     "metadata": {},
     "output_type": "execute_result"
    }
   ],
   "source": [
    "#Create the chatbot\n",
    "from IPython.display import Image\n",
    "\n",
    "#Setup the system problem\n",
    "system_prompt = \"\"\" \n",
    "You are a Router, that analyzes the input query and chooses 4 options:\n",
    "SMALLTALK: If the user input is small talk, like greetings and good byes.\n",
    "PRODUCT: If the query is a product question about laptops, like features, specifications and pricing.\n",
    "ORDER: If the query is about orders for laptops, like order status, order details or update order quantity\n",
    "END: Default, when its neither PRODUCT or ORDER.\n",
    "\n",
    "The output should only be just one word out of the possible 4 : SMALLTALK, PRODUCT, ORDER, END.\n",
    "\"\"\"\n",
    "\n",
    "smalltalk_prompt=\"\"\"\n",
    "If the user request is small talk, like greetings and goodbyes, respond professionally.\n",
    "Mention that you will be able to answer questions about laptop product features and provide order status and updates.\n",
    "\"\"\"\n",
    "\n",
    "router_agent = RouterAgent(model, \n",
    "                           system_prompt, \n",
    "                           smalltalk_prompt,\n",
    "                           debug=False)\n",
    "\n",
    "Image(router_agent.router_graph.get_graph().draw_mermaid_png())"
   ]
  },
  {
   "cell_type": "markdown",
   "id": "aca8e58e-67eb-4bb0-ae26-d904290e59eb",
   "metadata": {},
   "source": [
    "## 06.05 Execute the Routing chatbot"
   ]
  },
  {
   "cell_type": "code",
   "execution_count": 17,
   "id": "a55ad40f-912d-4e63-bd00-d2a017e9dfc5",
   "metadata": {},
   "outputs": [
    {
     "name": "stderr",
     "output_type": "stream",
     "text": [
      "Number of requested results 4 is greater than number of elements in index 2, updating n_results = 2\n"
     ]
    },
    {
     "name": "stdout",
     "output_type": "stream",
     "text": [
      "================================ Human Message =================================\n",
      "\n",
      "Tell me about the features of SpectraBook\n",
      "================================== Ai Message ==================================\n",
      "\n",
      "PRODUCT\n",
      "================================== Ai Message ==================================\n",
      "\n",
      "The SpectraBook S is designed for power users and features the following:\n",
      "\n",
      "- **Processor**: Intel Core i9\n",
      "- **Memory**: 64GB RAM\n",
      "- **Storage**: 2TB SSD\n",
      "\n",
      "This workstation-class laptop is perfect for intensive tasks such as video editing and 3D rendering.\n"
     ]
    }
   ],
   "source": [
    "#Execute a single request\n",
    "messages=[HumanMessage(content=\"Tell me about the features of SpectraBook\")]\n",
    "result=router_agent.router_graph.invoke({\"messages\":messages},config)\n",
    "for message in result['messages']:\n",
    "    print(message.pretty_repr())"
   ]
  },
  {
   "cell_type": "code",
   "execution_count": 19,
   "id": "d1937615-0441-4ab8-8dae-46d39de88fbe",
   "metadata": {},
   "outputs": [
    {
     "name": "stdout",
     "output_type": "stream",
     "text": [
      "================================ Human Message =================================\n",
      "\n",
      "What is the status of order ORD-7311?\n",
      "================================== Ai Message ==================================\n",
      "\n",
      "ORDER\n",
      "================================== Ai Message ==================================\n",
      "\n",
      "Here are the details for order **ORD-7311**:\n",
      "\n",
      "- **Product Ordered**: NanoEdge Flex\n",
      "- **Quantity Ordered**: 3\n",
      "- **Delivery Date**: 2024-10-19\n",
      "\n",
      "If you have any further questions or require assistance, please let me know!\n"
     ]
    }
   ],
   "source": [
    "#Execute a single request\n",
    "messages=[HumanMessage(content=\"What is the status of order ORD-7311?\")]\n",
    "result=router_agent.router_graph.invoke({\"messages\":messages},config)\n",
    "for message in result['messages']:\n",
    "    print(message.pretty_repr())"
   ]
  },
  {
   "cell_type": "code",
   "execution_count": 20,
   "id": "82de2bf5-a850-46c7-b638-5737f4aefb99",
   "metadata": {},
   "outputs": [
    {
     "name": "stdout",
     "output_type": "stream",
     "text": [
      "{'configurable': {'thread_id': '788345e5-1ceb-441e-a2f0-9e6cdc75ef4a'}}\n",
      "----------------------------------------\n",
      "USER : How are you doing?\n",
      "\n",
      "AGENT : Hello! I'm here to help you with information about laptop product features and to provide updates on your order status. How can I assist you today?\n",
      "----------------------------------------\n",
      "USER : Please show me the details of the order ORD-7311\n",
      "\n",
      "AGENT : Here are the details for order **ORD-7311**:\n",
      "\n",
      "- **Product Ordered:** NanoEdge Flex\n",
      "- **Quantity Ordered:** 3\n",
      "- **Delivery Date:** 2024-10-19\n",
      "\n",
      "If you need any further assistance, please let me know!\n",
      "----------------------------------------\n",
      "USER : Can you add one more of that laptop to the order? \n",
      "\n",
      "AGENT : The quantity for order **ORD-7311** has been successfully updated to 4 units of NanoEdge Flex.\n",
      "\n",
      "If there's anything else you need, feel free to ask!\n",
      "----------------------------------------\n",
      "USER : Tell me about the features of SpectraBook laptop\n"
     ]
    },
    {
     "name": "stderr",
     "output_type": "stream",
     "text": [
      "Number of requested results 4 is greater than number of elements in index 2, updating n_results = 2\n"
     ]
    },
    {
     "name": "stdout",
     "output_type": "stream",
     "text": [
      "\n",
      "AGENT : The **SpectraBook S** is designed for power users and features the following specifications:\n",
      "\n",
      "- **Processor**: Intel Core i9\n",
      "- **Memory**: 64GB RAM\n",
      "- **Storage**: 2TB SSD\n",
      "\n",
      "This workstation-class laptop is ideal for intensive tasks such as video editing and 3D rendering.\n",
      "----------------------------------------\n",
      "USER : How much does it cost?\n",
      "\n",
      "AGENT : The **SpectraBook S** is priced at $2499.\n",
      "----------------------------------------\n",
      "USER : Bye\n",
      "\n",
      "AGENT : Goodbye! If you have any questions about laptop product features or need updates on your order status in the future, feel free to reach out. Have a great day!\n"
     ]
    }
   ],
   "source": [
    "import uuid\n",
    "#Send a sequence of messages to chatbot and get its response\n",
    "#This simulates the conversation between the user and the Agentic chatbot\n",
    "user_inputs = [\n",
    "    \"How are you doing?\",\n",
    "    \"Please show me the details of the order ORD-7311\",\n",
    "    \"Can you add one more of that laptop to the order? \",\n",
    "    \"Tell me about the features of SpectraBook laptop\",\n",
    "    \"How much does it cost?\",\n",
    "    \"Bye\"\n",
    "]\n",
    "\n",
    "#Create a new thread\n",
    "config = {\"configurable\": {\"thread_id\": str(uuid.uuid4())}}\n",
    "\n",
    "for input in user_inputs:\n",
    "    print(f\"----------------------------------------\\nUSER : {input}\")\n",
    "    #Format the user message\n",
    "    user_message = {\"messages\":[HumanMessage(input)]}\n",
    "    #Get response from the agent\n",
    "    ai_response = router_agent.router_graph.invoke(user_message,config=config)\n",
    "    #Print the response\n",
    "    print(f\"\\nAGENT : {ai_response['messages'][-1].content}\")\n"
   ]
  },
  {
   "cell_type": "code",
   "execution_count": null,
   "id": "1e260065-4465-4a40-8c53-e0709098269d",
   "metadata": {},
   "outputs": [],
   "source": []
  }
 ],
 "metadata": {
  "kernelspec": {
   "display_name": "Python 3 (ipykernel)",
   "language": "python",
   "name": "python3"
  },
  "language_info": {
   "codemirror_mode": {
    "name": "ipython",
    "version": 3
   },
   "file_extension": ".py",
   "mimetype": "text/x-python",
   "name": "python",
   "nbconvert_exporter": "python",
   "pygments_lexer": "ipython3",
   "version": "3.11.9"
  }
 },
 "nbformat": 4,
 "nbformat_minor": 5
}
